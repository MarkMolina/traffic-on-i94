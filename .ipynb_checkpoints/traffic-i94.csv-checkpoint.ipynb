{
 "cells": [
  {
   "cell_type": "markdown",
   "id": "d1dce4f5",
   "metadata": {},
   "source": [
    "# Finding Heavy Traffic Indicators on I-94"
   ]
  },
  {
   "cell_type": "markdown",
   "id": "e29c4224",
   "metadata": {},
   "source": [
    "The goal of our analysis is to determine a few indicators of heavy traffic on I-94. These indicators can be weather type, time of the day, time of the week, etc. For instance, we may find out that the traffic is usually heavier in the summer or when it snows.\n",
    "\n",
    "## Data Set Information:\n",
    "\n",
    "Hourly Interstate 94 Westbound traffic volume for MN DoT ATR station 301, roughly midway between Minneapolis and St Paul, MN. Hourly weather features and holidays included for impacts on traffic volume.\n",
    "\n",
    "## Attribute Information:\n",
    "\n",
    "* holiday: Categorical US National holidays plus regional holiday, Minnesota State Fair \n",
    "* temp Numeric Average temp in kelvin \n",
    "* rain_1h: Numeric Amount in mm of rain that occurred in the hour \n",
    "* snow_1h: Numeric Amount in mm of snow that occurred in the hour \n",
    "* clouds_all: Numeric Percentage of cloud cover \n",
    "* weather_main: Categorical Short textual description of the current weather \n",
    "* weather_description: Categorical Longer textual description of the current weather \n",
    "* date_time: DateTime Hour of the data collected in local CST time \n",
    "* traffic_volume: Numeric Hourly I-94 ATR 301 reported westbound traffic volume\n",
    "\n",
    "The dataset [documentation](https://archive.ics.uci.edu/ml/datasets/Metro+Interstate+Traffic+Volume) mentions that a station located approximately midway between Minneapolis and Saint Paul recorded the traffic data. Also, the station only records westbound traffic (cars moving from east to west).\n",
    "\n",
    "This means that the results of our analysis will be about the westbound traffic in the proximity of that station. In other words, we should avoid generalizing our results for the entire I-94 highway."
   ]
  },
  {
   "cell_type": "code",
   "execution_count": 1,
   "id": "f6910c6d",
   "metadata": {},
   "outputs": [
    {
     "data": {
      "text/html": [
       "<div>\n",
       "<style scoped>\n",
       "    .dataframe tbody tr th:only-of-type {\n",
       "        vertical-align: middle;\n",
       "    }\n",
       "\n",
       "    .dataframe tbody tr th {\n",
       "        vertical-align: top;\n",
       "    }\n",
       "\n",
       "    .dataframe thead th {\n",
       "        text-align: right;\n",
       "    }\n",
       "</style>\n",
       "<table border=\"1\" class=\"dataframe\">\n",
       "  <thead>\n",
       "    <tr style=\"text-align: right;\">\n",
       "      <th></th>\n",
       "      <th>holiday</th>\n",
       "      <th>temp</th>\n",
       "      <th>rain_1h</th>\n",
       "      <th>snow_1h</th>\n",
       "      <th>clouds_all</th>\n",
       "      <th>weather_main</th>\n",
       "      <th>weather_description</th>\n",
       "      <th>date_time</th>\n",
       "      <th>traffic_volume</th>\n",
       "    </tr>\n",
       "  </thead>\n",
       "  <tbody>\n",
       "    <tr>\n",
       "      <th>0</th>\n",
       "      <td>None</td>\n",
       "      <td>288.28</td>\n",
       "      <td>0.0</td>\n",
       "      <td>0.0</td>\n",
       "      <td>40</td>\n",
       "      <td>Clouds</td>\n",
       "      <td>scattered clouds</td>\n",
       "      <td>2012-10-02 09:00:00</td>\n",
       "      <td>5545</td>\n",
       "    </tr>\n",
       "    <tr>\n",
       "      <th>1</th>\n",
       "      <td>None</td>\n",
       "      <td>289.36</td>\n",
       "      <td>0.0</td>\n",
       "      <td>0.0</td>\n",
       "      <td>75</td>\n",
       "      <td>Clouds</td>\n",
       "      <td>broken clouds</td>\n",
       "      <td>2012-10-02 10:00:00</td>\n",
       "      <td>4516</td>\n",
       "    </tr>\n",
       "    <tr>\n",
       "      <th>2</th>\n",
       "      <td>None</td>\n",
       "      <td>289.58</td>\n",
       "      <td>0.0</td>\n",
       "      <td>0.0</td>\n",
       "      <td>90</td>\n",
       "      <td>Clouds</td>\n",
       "      <td>overcast clouds</td>\n",
       "      <td>2012-10-02 11:00:00</td>\n",
       "      <td>4767</td>\n",
       "    </tr>\n",
       "    <tr>\n",
       "      <th>3</th>\n",
       "      <td>None</td>\n",
       "      <td>290.13</td>\n",
       "      <td>0.0</td>\n",
       "      <td>0.0</td>\n",
       "      <td>90</td>\n",
       "      <td>Clouds</td>\n",
       "      <td>overcast clouds</td>\n",
       "      <td>2012-10-02 12:00:00</td>\n",
       "      <td>5026</td>\n",
       "    </tr>\n",
       "    <tr>\n",
       "      <th>4</th>\n",
       "      <td>None</td>\n",
       "      <td>291.14</td>\n",
       "      <td>0.0</td>\n",
       "      <td>0.0</td>\n",
       "      <td>75</td>\n",
       "      <td>Clouds</td>\n",
       "      <td>broken clouds</td>\n",
       "      <td>2012-10-02 13:00:00</td>\n",
       "      <td>4918</td>\n",
       "    </tr>\n",
       "  </tbody>\n",
       "</table>\n",
       "</div>"
      ],
      "text/plain": [
       "  holiday    temp  rain_1h  snow_1h  clouds_all weather_main  \\\n",
       "0    None  288.28      0.0      0.0          40       Clouds   \n",
       "1    None  289.36      0.0      0.0          75       Clouds   \n",
       "2    None  289.58      0.0      0.0          90       Clouds   \n",
       "3    None  290.13      0.0      0.0          90       Clouds   \n",
       "4    None  291.14      0.0      0.0          75       Clouds   \n",
       "\n",
       "  weather_description            date_time  traffic_volume  \n",
       "0    scattered clouds  2012-10-02 09:00:00            5545  \n",
       "1       broken clouds  2012-10-02 10:00:00            4516  \n",
       "2     overcast clouds  2012-10-02 11:00:00            4767  \n",
       "3     overcast clouds  2012-10-02 12:00:00            5026  \n",
       "4       broken clouds  2012-10-02 13:00:00            4918  "
      ]
     },
     "execution_count": 1,
     "metadata": {},
     "output_type": "execute_result"
    }
   ],
   "source": [
    "import pandas as pd\n",
    "\n",
    "dataset = pd.read_csv(\"datasets/Metro_Interstate_Traffic_Volume.csv\")\n",
    "dataset.head()"
   ]
  },
  {
   "cell_type": "code",
   "execution_count": 2,
   "id": "b7320979",
   "metadata": {},
   "outputs": [
    {
     "name": "stdout",
     "output_type": "stream",
     "text": [
      "<class 'pandas.core.frame.DataFrame'>\n",
      "RangeIndex: 48204 entries, 0 to 48203\n",
      "Data columns (total 9 columns):\n",
      " #   Column               Non-Null Count  Dtype  \n",
      "---  ------               --------------  -----  \n",
      " 0   holiday              48204 non-null  object \n",
      " 1   temp                 48204 non-null  float64\n",
      " 2   rain_1h              48204 non-null  float64\n",
      " 3   snow_1h              48204 non-null  float64\n",
      " 4   clouds_all           48204 non-null  int64  \n",
      " 5   weather_main         48204 non-null  object \n",
      " 6   weather_description  48204 non-null  object \n",
      " 7   date_time            48204 non-null  object \n",
      " 8   traffic_volume       48204 non-null  int64  \n",
      "dtypes: float64(3), int64(2), object(4)\n",
      "memory usage: 3.3+ MB\n"
     ]
    }
   ],
   "source": [
    "dataset.info()"
   ]
  },
  {
   "cell_type": "code",
   "execution_count": 3,
   "id": "02a3aa79",
   "metadata": {},
   "outputs": [],
   "source": [
    "# Import matplotlib and allow drawing graphs in Jupyter\n",
    "\n",
    "import matplotlib.pyplot as plt\n",
    "%matplotlib inline"
   ]
  },
  {
   "cell_type": "code",
   "execution_count": 4,
   "id": "2302f07f",
   "metadata": {},
   "outputs": [
    {
     "data": {
      "image/png": "[encoded data removed]",
      "text/plain": [
       "<Figure size 640x480 with 1 Axes>"
      ]
     },
     "metadata": {},
     "output_type": "display_data"
    }
   ],
   "source": [
    "dataset[\"traffic_volume\"].plot.hist()\n",
    "plt.title(\"Distribution of traffic volume\")\n",
    "plt.show()"
   ]
  },
  {
   "cell_type": "code",
   "execution_count": 5,
   "id": "c9c35b95",
   "metadata": {},
   "outputs": [
    {
     "data": {
      "text/plain": [
       "count    48204.000000\n",
       "mean      3259.818355\n",
       "std       1986.860670\n",
       "min          0.000000\n",
       "25%       1193.000000\n",
       "50%       3380.000000\n",
       "75%       4933.000000\n",
       "max       7280.000000\n",
       "Name: traffic_volume, dtype: float64"
      ]
     },
     "execution_count": 5,
     "metadata": {},
     "output_type": "execute_result"
    }
   ],
   "source": [
    "dataset[\"traffic_volume\"].describe()"
   ]
  },
  {
   "cell_type": "markdown",
   "id": "6d20ec39",
   "metadata": {},
   "source": [
    "According to the graph we see two spikes around 2x as much compared to the average traffic volume. 1 spike in the first distribution of around 0 - 800 and another one at 4500 - 5000. This could be caused due to rush hour and quiet night times.\n",
    "\n",
    "About 25% of the time, there were 1,193 cars or fewer passing the station each hour — this probably occurs during the night, or when a road is under construction.\n",
    "\n",
    "About 25% of the time, the traffic volume was four times as much (4,933 cars or more)."
   ]
  },
  {
   "cell_type": "markdown",
   "id": "34004ef8",
   "metadata": {},
   "source": [
    "This possibility that nighttime and daytime might influence traffic volume gives our analysis an interesting direction: comparing daytime with nighttime data.\n",
    "\n",
    "We'll start by dividing the dataset into two parts:\n",
    "\n",
    "Daytime data: hours from 7 a.m. to 7 p.m. (12 hours)\n",
    "Nighttime data: hours from 7 p.m. to 7 a.m. (12 hours)\n",
    "While this is not a perfect criterion for distinguishing between nighttime and daytime, it's a good starting point."
   ]
  },
  {
   "cell_type": "code",
   "execution_count": 6,
   "id": "c68ebe38",
   "metadata": {},
   "outputs": [
    {
     "name": "stdout",
     "output_type": "stream",
     "text": [
      "<class 'pandas.core.series.Series'>\n",
      "RangeIndex: 48204 entries, 0 to 48203\n",
      "Series name: date_time\n",
      "Non-Null Count  Dtype         \n",
      "--------------  -----         \n",
      "48204 non-null  datetime64[ns]\n",
      "dtypes: datetime64[ns](1)\n",
      "memory usage: 376.7 KB\n"
     ]
    }
   ],
   "source": [
    "dataset[\"date_time\"] = pd.to_datetime(dataset[\"date_time\"])\n",
    "dataset[\"date_time\"].info()"
   ]
  },
  {
   "cell_type": "code",
   "execution_count": 7,
   "id": "e663f4d9",
   "metadata": {},
   "outputs": [
    {
     "name": "stdout",
     "output_type": "stream",
     "text": [
      "<class 'pandas.core.frame.DataFrame'>\n",
      "Int64Index: 23877 entries, 0 to 48198\n",
      "Data columns (total 9 columns):\n",
      " #   Column               Non-Null Count  Dtype         \n",
      "---  ------               --------------  -----         \n",
      " 0   holiday              23877 non-null  object        \n",
      " 1   temp                 23877 non-null  float64       \n",
      " 2   rain_1h              23877 non-null  float64       \n",
      " 3   snow_1h              23877 non-null  float64       \n",
      " 4   clouds_all           23877 non-null  int64         \n",
      " 5   weather_main         23877 non-null  object        \n",
      " 6   weather_description  23877 non-null  object        \n",
      " 7   date_time            23877 non-null  datetime64[ns]\n",
      " 8   traffic_volume       23877 non-null  int64         \n",
      "dtypes: datetime64[ns](1), float64(3), int64(2), object(3)\n",
      "memory usage: 1.8+ MB\n"
     ]
    }
   ],
   "source": [
    "dataset_daytime = dataset[dataset[\"date_time\"].dt.hour.between(7, 19, \"left\")]\n",
    "dataset_daytime.info()"
   ]
  },
  {
   "cell_type": "code",
   "execution_count": 23,
   "id": "26bf4571",
   "metadata": {},
   "outputs": [
    {
     "name": "stdout",
     "output_type": "stream",
     "text": [
      "<class 'pandas.core.frame.DataFrame'>\n",
      "Int64Index: 24327 entries, 10 to 48203\n",
      "Data columns (total 9 columns):\n",
      " #   Column               Non-Null Count  Dtype         \n",
      "---  ------               --------------  -----         \n",
      " 0   holiday              24327 non-null  object        \n",
      " 1   temp                 24327 non-null  float64       \n",
      " 2   rain_1h              24327 non-null  float64       \n",
      " 3   snow_1h              24327 non-null  float64       \n",
      " 4   clouds_all           24327 non-null  int64         \n",
      " 5   weather_main         24327 non-null  object        \n",
      " 6   weather_description  24327 non-null  object        \n",
      " 7   date_time            24327 non-null  datetime64[ns]\n",
      " 8   traffic_volume       24327 non-null  int64         \n",
      "dtypes: datetime64[ns](1), float64(3), int64(2), object(3)\n",
      "memory usage: 1.9+ MB\n"
     ]
    }
   ],
   "source": [
    "dataset_nighttime = dataset[dataset[\"date_time\"].dt.hour.between(0, 7, \"left\") | \n",
    "                            dataset[\"date_time\"].dt.hour.between(19, 23)]\n",
    "dataset_nighttime.info()"
   ]
  },
  {
   "cell_type": "markdown",
   "id": "fa84d945",
   "metadata": {},
   "source": [
    "We've created two datasets\n",
    "\n",
    "1. dataset_daytime containing all values the date_time hours from 7 a.m. to 7 p.m. (12 hours)\n",
    "2. dataset_nighttime containing all values from the remaining hours. 7 p.m. to 7 a.m. (12 hours)"
   ]
  },
  {
   "cell_type": "code",
   "execution_count": 21,
   "id": "532c0ce0",
   "metadata": {},
   "outputs": [
    {
     "data": {
      "text/plain": [
       "7     2079\n",
       "8     2080\n",
       "9     2018\n",
       "10    2078\n",
       "11    1952\n",
       "12    1955\n",
       "13    1905\n",
       "14    1969\n",
       "15    1934\n",
       "16    1988\n",
       "17    1933\n",
       "18    1986\n",
       "Name: date_time, dtype: int64"
      ]
     },
     "execution_count": 21,
     "metadata": {},
     "output_type": "execute_result"
    }
   ],
   "source": [
    "dataset_daytime[\"date_time\"].dt.hour.value_counts().sort_index()"
   ]
  },
  {
   "cell_type": "code",
   "execution_count": 24,
   "id": "540eaf2b",
   "metadata": {},
   "outputs": [
    {
     "data": {
      "text/plain": [
       "0     2037\n",
       "1     2049\n",
       "2     2019\n",
       "3     2025\n",
       "4     2091\n",
       "5     2063\n",
       "6     2087\n",
       "19    1961\n",
       "20    1979\n",
       "21    1982\n",
       "22    1994\n",
       "23    2040\n",
       "Name: date_time, dtype: int64"
      ]
     },
     "execution_count": 24,
     "metadata": {},
     "output_type": "execute_result"
    }
   ],
   "source": [
    "dataset_nighttime[\"date_time\"].dt.hour.value_counts().sort_index()"
   ]
  },
  {
   "cell_type": "code",
   "execution_count": 31,
   "id": "7763d661",
   "metadata": {},
   "outputs": [
    {
     "ename": "TypeError",
     "evalue": "'Text' object is not callable",
     "output_type": "error",
     "traceback": [
      "\u001b[0;31m---------------------------------------------------------------------------\u001b[0m",
      "\u001b[0;31mTypeError\u001b[0m                                 Traceback (most recent call last)",
      "\u001b[0;32m/var/folders/0y/vbkrzy_n1f734k7txr8q5kfw0000gn/T/ipykernel_2440/2564296174.py\u001b[0m in \u001b[0;36m<module>\u001b[0;34m\u001b[0m\n\u001b[1;32m      1\u001b[0m \u001b[0mf\u001b[0m\u001b[0;34m,\u001b[0m \u001b[0;34m(\u001b[0m\u001b[0max1\u001b[0m\u001b[0;34m,\u001b[0m \u001b[0max2\u001b[0m\u001b[0;34m)\u001b[0m \u001b[0;34m=\u001b[0m \u001b[0mplt\u001b[0m\u001b[0;34m.\u001b[0m\u001b[0msubplots\u001b[0m\u001b[0;34m(\u001b[0m\u001b[0;36m1\u001b[0m\u001b[0;34m,\u001b[0m \u001b[0;36m2\u001b[0m\u001b[0;34m)\u001b[0m\u001b[0;34m\u001b[0m\u001b[0;34m\u001b[0m\u001b[0m\n\u001b[0;32m----> 2\u001b[0;31m \u001b[0max1\u001b[0m\u001b[0;34m.\u001b[0m\u001b[0mtitle\u001b[0m\u001b[0;34m(\u001b[0m\u001b[0;34m\"Daytime\"\u001b[0m\u001b[0;34m)\u001b[0m\u001b[0;34m\u001b[0m\u001b[0;34m\u001b[0m\u001b[0m\n\u001b[0m",
      "\u001b[0;31mTypeError\u001b[0m: 'Text' object is not callable"
     ]
    },
    {
     "data": {
      "image/png": "[encoded data removed]",
      "text/plain": [
       "<Figure size 640x480 with 2 Axes>"
      ]
     },
     "metadata": {},
     "output_type": "display_data"
    }
   ],
   "source": [
    "f, (ax1, ax2) = plt.subplots(1, 2)\n",
    "ax1.title(\"Daytime\")"
   ]
  }
 ],
 "metadata": {
  "kernelspec": {
   "display_name": "Python 3 (ipykernel)",
   "language": "python",
   "name": "python3"
  },
  "language_info": {
   "codemirror_mode": {
    "name": "ipython",
    "version": 3
   },
   "file_extension": ".py",
   "mimetype": "text/x-python",
   "name": "python",
   "nbconvert_exporter": "python",
   "pygments_lexer": "ipython3",
   "version": "3.9.13"
  }
 },
 "nbformat": 4,
 "nbformat_minor": 5
}
